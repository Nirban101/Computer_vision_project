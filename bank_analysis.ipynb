{
 "cells": [
  {
   "cell_type": "markdown",
   "metadata": {
    "colab_type": "text",
    "id": "lP6JLo1tGNBg"
   },
   "source": [
    "# Bank churning analysis"
   ]
  },
  {
   "cell_type": "markdown",
   "metadata": {
    "colab_type": "text",
    "id": "gWZyYmS_UE_L"
   },
   "source": [
    "### Importing the libraries"
   ]
  },
  {
   "cell_type": "code",
   "execution_count": 10,
   "metadata": {
    "colab": {},
    "colab_type": "code",
    "id": "MxkJoQBkUIHC"
   },
   "outputs": [],
   "source": [
    "import numpy as np\n",
    "import pandas as pd\n",
    "import tensorflow as tf\n",
    "import matplotlib.pyplot as plt"
   ]
  },
  {
   "cell_type": "markdown",
   "metadata": {},
   "source": [
    "# Visualizing and pre processing of data "
   ]
  },
  {
   "cell_type": "code",
   "execution_count": 11,
   "metadata": {
    "colab": {},
    "colab_type": "code",
    "id": "MXUkhkMfU4wq"
   },
   "outputs": [],
   "source": [
    "Data = pd.read_csv('Bank_dataset.csv')\n",
    "X_features = Data.iloc[:, 3:-1].values\n",
    "y_labels = Data.iloc[:, -1].values"
   ]
  },
  {
   "cell_type": "code",
   "execution_count": 12,
   "metadata": {
    "colab": {
     "base_uri": "https://localhost:8080/",
     "height": 137
    },
    "colab_type": "code",
    "id": "VYP9cQTWbzuI",
    "outputId": "797e7a64-9bac-436a-8c9c-94437e5e7587"
   },
   "outputs": [
    {
     "name": "stdout",
     "output_type": "stream",
     "text": [
      "[[619 'France' 'Female' ... 1 1 101348.88]\n",
      " [608 'Spain' 'Female' ... 0 1 112542.58]\n",
      " [502 'France' 'Female' ... 1 0 113931.57]\n",
      " ...\n",
      " [709 'France' 'Female' ... 0 1 42085.58]\n",
      " [772 'Germany' 'Male' ... 1 0 92888.52]\n",
      " [792 'France' 'Female' ... 1 0 38190.78]]\n"
     ]
    }
   ],
   "source": [
    "print(X_features)"
   ]
  },
  {
   "cell_type": "code",
   "execution_count": 13,
   "metadata": {
    "colab": {
     "base_uri": "https://localhost:8080/",
     "height": 34
    },
    "colab_type": "code",
    "id": "38vKGE6Nb2RR",
    "outputId": "a815e42a-e0dd-4cb5-ab97-b17ead98fbc3"
   },
   "outputs": [
    {
     "name": "stdout",
     "output_type": "stream",
     "text": [
      "[1 0 1 ... 1 1 0]\n"
     ]
    }
   ],
   "source": [
    "print(y_labels)"
   ]
  },
  {
   "cell_type": "code",
   "execution_count": 25,
   "metadata": {},
   "outputs": [
    {
     "data": {
      "image/png": "[encoded data removed]",
      "text/plain": [
       "<Figure size 432x288 with 1 Axes>"
      ]
     },
     "metadata": {
      "needs_background": "light"
     },
     "output_type": "display_data"
    }
   ],
   "source": [
    "plt.hist(Data['Exited'])\n",
    "plt.xlabel('Exited or stayed')\n",
    "plt.ylabel('counts')\n",
    "plt.grid()\n",
    "## This plot shows that around 25% of the customers are leaving the bank."
   ]
  },
  {
   "cell_type": "code",
   "execution_count": 26,
   "metadata": {},
   "outputs": [
    {
     "data": {
      "image/png": "[encoded data removed]",
      "text/plain": [
       "<Figure size 432x288 with 1 Axes>"
      ]
     },
     "metadata": {
      "needs_background": "light"
     },
     "output_type": "display_data"
    }
   ],
   "source": [
    "plt.scatter(Data['Exited'],Data['EstimatedSalary'])\n",
    "plt.ylabel('Estimated salary')\n",
    "plt.xlabel('Exited or stayed')\n",
    "plt.grid()\n",
    "## This plot shows that there is no correlation between salary and person exited.\n",
    "##Person with high salary also can exit the bank"
   ]
  },
  {
   "cell_type": "markdown",
   "metadata": {
    "colab_type": "text",
    "id": "N6bQ0UgSU-NJ"
   },
   "source": [
    "### Encoding categorical data"
   ]
  },
  {
   "cell_type": "markdown",
   "metadata": {
    "colab_type": "text",
    "id": "le5MJreAbW52"
   },
   "source": [
    "Label Encoding the \"Gender\" column"
   ]
  },
  {
   "cell_type": "code",
   "execution_count": 27,
   "metadata": {
    "colab": {},
    "colab_type": "code",
    "id": "PxVKWXxLbczC"
   },
   "outputs": [],
   "source": [
    "from sklearn.preprocessing import LabelEncoder\n",
    "labelencoder = LabelEncoder()\n",
    "X_features[:, 2] = labelencoder.fit_transform(X_features[:, 2])"
   ]
  },
  {
   "cell_type": "code",
   "execution_count": 28,
   "metadata": {
    "colab": {
     "base_uri": "https://localhost:8080/",
     "height": 137
    },
    "colab_type": "code",
    "id": "-M1KboxFb6OO",
    "outputId": "e2b8c7e8-0cbc-4cdf-f4eb-7f0853a00b88"
   },
   "outputs": [
    {
     "name": "stdout",
     "output_type": "stream",
     "text": [
      "[[619 'France' 0 ... 1 1 101348.88]\n",
      " [608 'Spain' 0 ... 0 1 112542.58]\n",
      " [502 'France' 0 ... 1 0 113931.57]\n",
      " ...\n",
      " [709 'France' 0 ... 0 1 42085.58]\n",
      " [772 'Germany' 1 ... 1 0 92888.52]\n",
      " [792 'France' 0 ... 1 0 38190.78]]\n"
     ]
    }
   ],
   "source": [
    "print(X_features)"
   ]
  },
  {
   "cell_type": "markdown",
   "metadata": {
    "colab_type": "text",
    "id": "CUxGZezpbMcb"
   },
   "source": [
    "One Hot Encoding the \"Geography\" column"
   ]
  },
  {
   "cell_type": "code",
   "execution_count": 29,
   "metadata": {
    "colab": {},
    "colab_type": "code",
    "id": "AMXC8-KMVirw"
   },
   "outputs": [],
   "source": [
    "from sklearn.compose import ColumnTransformer\n",
    "from sklearn.preprocessing import OneHotEncoder\n",
    "coloumntrans = ColumnTransformer(transformers=[('encoder', OneHotEncoder(), [1])], remainder='passthrough')\n",
    "X_features = np.array(coloumntrans.fit_transform(X_features))"
   ]
  },
  {
   "cell_type": "code",
   "execution_count": 30,
   "metadata": {
    "colab": {
     "base_uri": "https://localhost:8080/",
     "height": 137
    },
    "colab_type": "code",
    "id": "ZcxwEon-b8nV",
    "outputId": "23a98af4-5e33-4b26-c27b-f06e3c5d2baf"
   },
   "outputs": [
    {
     "name": "stdout",
     "output_type": "stream",
     "text": [
      "[[1.0 0.0 0.0 ... 1 1 101348.88]\n",
      " [0.0 0.0 1.0 ... 0 1 112542.58]\n",
      " [1.0 0.0 0.0 ... 1 0 113931.57]\n",
      " ...\n",
      " [1.0 0.0 0.0 ... 0 1 42085.58]\n",
      " [0.0 1.0 0.0 ... 1 0 92888.52]\n",
      " [1.0 0.0 0.0 ... 1 0 38190.78]]\n"
     ]
    }
   ],
   "source": [
    "print(X_features)"
   ]
  },
  {
   "cell_type": "markdown",
   "metadata": {
    "colab_type": "text",
    "id": "vHol938cW8zd"
   },
   "source": [
    "### Splitting the dataset into the Training set and Test set"
   ]
  },
  {
   "cell_type": "code",
   "execution_count": 33,
   "metadata": {
    "colab": {},
    "colab_type": "code",
    "id": "Z-TDt0Y_XEfc"
   },
   "outputs": [],
   "source": [
    "from sklearn.model_selection import train_test_split\n",
    "X_train, X_test, y_train, y_test = train_test_split(X_features, y_labels, test_size = 0.1, random_state = 0)"
   ]
  },
  {
   "cell_type": "markdown",
   "metadata": {
    "colab_type": "text",
    "id": "RE_FcHyfV3TQ"
   },
   "source": [
    "### Feature Scaling"
   ]
  },
  {
   "cell_type": "code",
   "execution_count": 34,
   "metadata": {
    "colab": {},
    "colab_type": "code",
    "id": "ViCrE00rV8Sk"
   },
   "outputs": [],
   "source": [
    "from sklearn.preprocessing import StandardScaler\n",
    "sc = StandardScaler()\n",
    "X_train = sc.fit_transform(X_train)\n",
    "X_test = sc.transform(X_test)"
   ]
  },
  {
   "cell_type": "markdown",
   "metadata": {},
   "source": [
    "# Building the model"
   ]
  },
  {
   "cell_type": "code",
   "execution_count": 46,
   "metadata": {
    "colab": {},
    "colab_type": "code",
    "id": "3dtrScHxXQox"
   },
   "outputs": [],
   "source": [
    "ann = tf.keras.models.Sequential()\n",
    "ann.add(tf.keras.layers.Dense(units=24, activation='relu'))\n",
    "ann.add(tf.keras.layers.Dense(units=16, activation='relu'))\n",
    "ann.add(tf.keras.layers.Dense(units=10, activation='relu'))\n",
    "ann.add(tf.keras.layers.Dense(units=1, activation='sigmoid'))"
   ]
  },
  {
   "cell_type": "markdown",
   "metadata": {
    "colab_type": "text",
    "id": "JT4u2S1_Y4WG"
   },
   "source": [
    "## Training the model"
   ]
  },
  {
   "cell_type": "code",
   "execution_count": 47,
   "metadata": {
    "colab": {},
    "colab_type": "code",
    "id": "fG3RrwDXZEaS"
   },
   "outputs": [],
   "source": [
    "ann.compile(optimizer = 'adam', loss = 'binary_crossentropy', metrics = ['accuracy'])"
   ]
  },
  {
   "cell_type": "code",
   "execution_count": 62,
   "metadata": {
    "colab": {
     "base_uri": "https://localhost:8080/",
     "height": 1000
    },
    "colab_type": "code",
    "id": "nHZ-LKv_ZRb3",
    "outputId": "718cc4b0-b5aa-40f0-9b20-d3d31730a531",
    "scrolled": false
   },
   "outputs": [
    {
     "name": "stdout",
     "output_type": "stream",
     "text": [
      "Epoch 1/100\n",
      "306/306 [==============================] - 1s 2ms/step - loss: 0.2159 - accuracy: 0.9060 - val_loss: 0.4624 - val_accuracy: 0.8437\n",
      "Epoch 2/100\n",
      "306/306 [==============================] - 1s 2ms/step - loss: 0.2130 - accuracy: 0.9103 - val_loss: 0.4590 - val_accuracy: 0.8504\n",
      "Epoch 3/100\n",
      "306/306 [==============================] - 1s 2ms/step - loss: 0.2188 - accuracy: 0.9050 - val_loss: 0.4579 - val_accuracy: 0.8570\n",
      "Epoch 4/100\n",
      "306/306 [==============================] - 1s 2ms/step - loss: 0.2117 - accuracy: 0.9106 - val_loss: 0.4621 - val_accuracy: 0.8430\n",
      "Epoch 5/100\n",
      "306/306 [==============================] - 1s 3ms/step - loss: 0.2132 - accuracy: 0.9090 - val_loss: 0.4593 - val_accuracy: 0.8459\n",
      "Epoch 6/100\n",
      "306/306 [==============================] - 1s 3ms/step - loss: 0.2124 - accuracy: 0.9102 - val_loss: 0.4612 - val_accuracy: 0.8481\n",
      "Epoch 7/100\n",
      "306/306 [==============================] - 1s 3ms/step - loss: 0.2116 - accuracy: 0.9127 - val_loss: 0.4553 - val_accuracy: 0.8526\n",
      "Epoch 8/100\n",
      "306/306 [==============================] - 1s 2ms/step - loss: 0.2116 - accuracy: 0.9099 - val_loss: 0.4513 - val_accuracy: 0.8444\n",
      "Epoch 9/100\n",
      "306/306 [==============================] - 1s 3ms/step - loss: 0.2110 - accuracy: 0.9101 - val_loss: 0.4656 - val_accuracy: 0.8481\n",
      "Epoch 10/100\n",
      "306/306 [==============================] - 1s 2ms/step - loss: 0.2109 - accuracy: 0.9086 - val_loss: 0.4774 - val_accuracy: 0.8467\n",
      "Epoch 11/100\n",
      "306/306 [==============================] - 1s 2ms/step - loss: 0.2124 - accuracy: 0.9094 - val_loss: 0.4674 - val_accuracy: 0.8504\n",
      "Epoch 12/100\n",
      "306/306 [==============================] - 1s 2ms/step - loss: 0.2118 - accuracy: 0.9099 - val_loss: 0.4666 - val_accuracy: 0.8496\n",
      "Epoch 13/100\n",
      "306/306 [==============================] - 1s 2ms/step - loss: 0.2103 - accuracy: 0.9108 - val_loss: 0.4608 - val_accuracy: 0.8519\n",
      "Epoch 14/100\n",
      "306/306 [==============================] - 1s 3ms/step - loss: 0.2124 - accuracy: 0.9098 - val_loss: 0.4499 - val_accuracy: 0.8481\n",
      "Epoch 15/100\n",
      "306/306 [==============================] - 1s 2ms/step - loss: 0.2135 - accuracy: 0.9103 - val_loss: 0.4723 - val_accuracy: 0.8489\n",
      "Epoch 16/100\n",
      "306/306 [==============================] - 1s 2ms/step - loss: 0.2102 - accuracy: 0.9111 - val_loss: 0.4650 - val_accuracy: 0.8474\n",
      "Epoch 17/100\n",
      "306/306 [==============================] - 1s 2ms/step - loss: 0.2105 - accuracy: 0.9114 - val_loss: 0.4558 - val_accuracy: 0.8511\n",
      "Epoch 18/100\n",
      "306/306 [==============================] - 1s 2ms/step - loss: 0.2118 - accuracy: 0.9111 - val_loss: 0.4602 - val_accuracy: 0.8496\n",
      "Epoch 19/100\n",
      "306/306 [==============================] - 1s 2ms/step - loss: 0.2118 - accuracy: 0.9114 - val_loss: 0.4624 - val_accuracy: 0.8444\n",
      "Epoch 20/100\n",
      "306/306 [==============================] - 1s 3ms/step - loss: 0.2096 - accuracy: 0.9095 - val_loss: 0.4705 - val_accuracy: 0.8459\n",
      "Epoch 21/100\n",
      "306/306 [==============================] - 1s 2ms/step - loss: 0.2114 - accuracy: 0.9120 - val_loss: 0.4554 - val_accuracy: 0.8452\n",
      "Epoch 22/100\n",
      "306/306 [==============================] - 1s 2ms/step - loss: 0.2133 - accuracy: 0.9076 - val_loss: 0.4733 - val_accuracy: 0.8370\n",
      "Epoch 23/100\n",
      "306/306 [==============================] - 1s 3ms/step - loss: 0.2104 - accuracy: 0.9114 - val_loss: 0.4694 - val_accuracy: 0.8556\n",
      "Epoch 24/100\n",
      "306/306 [==============================] - 1s 2ms/step - loss: 0.2089 - accuracy: 0.9108 - val_loss: 0.4691 - val_accuracy: 0.8489\n",
      "Epoch 25/100\n",
      "306/306 [==============================] - 1s 2ms/step - loss: 0.2113 - accuracy: 0.9114 - val_loss: 0.4733 - val_accuracy: 0.8459\n",
      "Epoch 26/100\n",
      "306/306 [==============================] - 1s 2ms/step - loss: 0.2081 - accuracy: 0.9107 - val_loss: 0.4767 - val_accuracy: 0.8393\n",
      "Epoch 27/100\n",
      "306/306 [==============================] - 1s 2ms/step - loss: 0.2096 - accuracy: 0.9123 - val_loss: 0.4776 - val_accuracy: 0.8481\n",
      "Epoch 28/100\n",
      "306/306 [==============================] - 1s 3ms/step - loss: 0.2110 - accuracy: 0.9114 - val_loss: 0.4649 - val_accuracy: 0.8467\n",
      "Epoch 29/100\n",
      "306/306 [==============================] - 1s 3ms/step - loss: 0.2103 - accuracy: 0.9102 - val_loss: 0.4685 - val_accuracy: 0.8370\n",
      "Epoch 30/100\n",
      "306/306 [==============================] - 1s 4ms/step - loss: 0.2121 - accuracy: 0.9084 - val_loss: 0.4587 - val_accuracy: 0.8430\n",
      "Epoch 31/100\n",
      "306/306 [==============================] - 1s 4ms/step - loss: 0.2111 - accuracy: 0.9098 - val_loss: 0.4535 - val_accuracy: 0.8452\n",
      "Epoch 32/100\n",
      "306/306 [==============================] - 1s 3ms/step - loss: 0.2085 - accuracy: 0.9115 - val_loss: 0.4530 - val_accuracy: 0.8474\n",
      "Epoch 33/100\n",
      "306/306 [==============================] - 1s 3ms/step - loss: 0.2103 - accuracy: 0.9102 - val_loss: 0.4711 - val_accuracy: 0.8422\n",
      "Epoch 34/100\n",
      "306/306 [==============================] - 1s 3ms/step - loss: 0.2120 - accuracy: 0.9106 - val_loss: 0.4608 - val_accuracy: 0.8489\n",
      "Epoch 35/100\n",
      "306/306 [==============================] - 1s 2ms/step - loss: 0.2108 - accuracy: 0.9107 - val_loss: 0.4638 - val_accuracy: 0.8489\n",
      "Epoch 36/100\n",
      "306/306 [==============================] - 1s 2ms/step - loss: 0.2079 - accuracy: 0.9140 - val_loss: 0.4748 - val_accuracy: 0.8452\n",
      "Epoch 37/100\n",
      "306/306 [==============================] - 1s 2ms/step - loss: 0.2101 - accuracy: 0.9120 - val_loss: 0.4839 - val_accuracy: 0.8489\n",
      "Epoch 38/100\n",
      "306/306 [==============================] - 1s 2ms/step - loss: 0.2126 - accuracy: 0.9098 - val_loss: 0.4656 - val_accuracy: 0.8452\n",
      "Epoch 39/100\n",
      "306/306 [==============================] - 1s 2ms/step - loss: 0.2119 - accuracy: 0.9080 - val_loss: 0.4853 - val_accuracy: 0.8541\n",
      "Epoch 40/100\n",
      "306/306 [==============================] - 1s 2ms/step - loss: 0.2111 - accuracy: 0.9102 - val_loss: 0.4770 - val_accuracy: 0.8452\n",
      "Epoch 41/100\n",
      "306/306 [==============================] - 1s 2ms/step - loss: 0.2109 - accuracy: 0.9108 - val_loss: 0.4825 - val_accuracy: 0.8444\n",
      "Epoch 42/100\n",
      "306/306 [==============================] - 1s 2ms/step - loss: 0.2088 - accuracy: 0.9111 - val_loss: 0.4669 - val_accuracy: 0.8452\n",
      "Epoch 43/100\n",
      "306/306 [==============================] - 1s 2ms/step - loss: 0.2092 - accuracy: 0.9102 - val_loss: 0.4799 - val_accuracy: 0.8437\n",
      "Epoch 44/100\n",
      "306/306 [==============================] - 1s 2ms/step - loss: 0.2093 - accuracy: 0.9099 - val_loss: 0.4728 - val_accuracy: 0.8504\n",
      "Epoch 45/100\n",
      "306/306 [==============================] - 1s 2ms/step - loss: 0.2103 - accuracy: 0.9097 - val_loss: 0.4711 - val_accuracy: 0.8400\n",
      "Epoch 46/100\n",
      "306/306 [==============================] - 1s 2ms/step - loss: 0.2075 - accuracy: 0.9115 - val_loss: 0.4756 - val_accuracy: 0.8452\n",
      "Epoch 47/100\n",
      "306/306 [==============================] - 1s 2ms/step - loss: 0.2100 - accuracy: 0.9094 - val_loss: 0.4750 - val_accuracy: 0.8467\n",
      "Epoch 48/100\n",
      "306/306 [==============================] - 1s 2ms/step - loss: 0.2105 - accuracy: 0.9094 - val_loss: 0.4790 - val_accuracy: 0.8415\n",
      "Epoch 49/100\n",
      "306/306 [==============================] - 1s 2ms/step - loss: 0.2098 - accuracy: 0.9095 - val_loss: 0.4632 - val_accuracy: 0.8422\n",
      "Epoch 50/100\n",
      "306/306 [==============================] - 1s 2ms/step - loss: 0.2090 - accuracy: 0.9112 - val_loss: 0.4797 - val_accuracy: 0.8430\n",
      "Epoch 51/100\n",
      "306/306 [==============================] - 1s 2ms/step - loss: 0.2094 - accuracy: 0.9099 - val_loss: 0.4622 - val_accuracy: 0.8319\n",
      "Epoch 52/100\n",
      "306/306 [==============================] - 1s 2ms/step - loss: 0.2112 - accuracy: 0.9094 - val_loss: 0.4857 - val_accuracy: 0.8444\n",
      "Epoch 53/100\n",
      "306/306 [==============================] - 1s 2ms/step - loss: 0.2117 - accuracy: 0.9107 - val_loss: 0.4757 - val_accuracy: 0.8489\n",
      "Epoch 54/100\n",
      "306/306 [==============================] - 1s 2ms/step - loss: 0.2107 - accuracy: 0.9094 - val_loss: 0.4738 - val_accuracy: 0.8489\n",
      "Epoch 55/100\n",
      "306/306 [==============================] - 1s 2ms/step - loss: 0.2090 - accuracy: 0.9069 - val_loss: 0.4734 - val_accuracy: 0.8481\n",
      "Epoch 56/100\n",
      "306/306 [==============================] - 1s 2ms/step - loss: 0.2091 - accuracy: 0.9106 - val_loss: 0.4574 - val_accuracy: 0.8378\n",
      "Epoch 57/100\n",
      "306/306 [==============================] - 1s 2ms/step - loss: 0.2083 - accuracy: 0.9116 - val_loss: 0.4730 - val_accuracy: 0.8400\n"
     ]
    },
    {
     "name": "stdout",
     "output_type": "stream",
     "text": [
      "Epoch 58/100\n",
      "306/306 [==============================] - 1s 2ms/step - loss: 0.2080 - accuracy: 0.9123 - val_loss: 0.4848 - val_accuracy: 0.8459\n",
      "Epoch 59/100\n",
      "306/306 [==============================] - 1s 2ms/step - loss: 0.2106 - accuracy: 0.9110 - val_loss: 0.4704 - val_accuracy: 0.8407\n",
      "Epoch 60/100\n",
      "306/306 [==============================] - 1s 2ms/step - loss: 0.2105 - accuracy: 0.9092 - val_loss: 0.4578 - val_accuracy: 0.8437\n",
      "Epoch 61/100\n",
      "306/306 [==============================] - 1s 2ms/step - loss: 0.2102 - accuracy: 0.9075 - val_loss: 0.4756 - val_accuracy: 0.8437\n",
      "Epoch 62/100\n",
      "306/306 [==============================] - 1s 2ms/step - loss: 0.2075 - accuracy: 0.9103 - val_loss: 0.4733 - val_accuracy: 0.8430\n",
      "Epoch 63/100\n",
      "306/306 [==============================] - 1s 2ms/step - loss: 0.2077 - accuracy: 0.9128 - val_loss: 0.4777 - val_accuracy: 0.8444\n",
      "Epoch 64/100\n",
      "306/306 [==============================] - 1s 2ms/step - loss: 0.2059 - accuracy: 0.9119 - val_loss: 0.4781 - val_accuracy: 0.8519\n",
      "Epoch 65/100\n",
      "306/306 [==============================] - 1s 4ms/step - loss: 0.2085 - accuracy: 0.9115 - val_loss: 0.4800 - val_accuracy: 0.8407\n",
      "Epoch 66/100\n",
      "306/306 [==============================] - 1s 3ms/step - loss: 0.2085 - accuracy: 0.9103 - val_loss: 0.4638 - val_accuracy: 0.8430\n",
      "Epoch 67/100\n",
      "306/306 [==============================] - 1s 3ms/step - loss: 0.2087 - accuracy: 0.9102 - val_loss: 0.4707 - val_accuracy: 0.8467\n",
      "Epoch 68/100\n",
      "306/306 [==============================] - 1s 2ms/step - loss: 0.2102 - accuracy: 0.9106 - val_loss: 0.4849 - val_accuracy: 0.8437\n",
      "Epoch 69/100\n",
      "306/306 [==============================] - 1s 2ms/step - loss: 0.2076 - accuracy: 0.9101 - val_loss: 0.4950 - val_accuracy: 0.8467\n",
      "Epoch 70/100\n",
      "306/306 [==============================] - 1s 2ms/step - loss: 0.2101 - accuracy: 0.9085 - val_loss: 0.4870 - val_accuracy: 0.8407\n",
      "Epoch 71/100\n",
      "306/306 [==============================] - 1s 2ms/step - loss: 0.2066 - accuracy: 0.9097 - val_loss: 0.4870 - val_accuracy: 0.8452\n",
      "Epoch 72/100\n",
      "306/306 [==============================] - 1s 2ms/step - loss: 0.2117 - accuracy: 0.9067 - val_loss: 0.4860 - val_accuracy: 0.8422\n",
      "Epoch 73/100\n",
      "306/306 [==============================] - 1s 2ms/step - loss: 0.2066 - accuracy: 0.9105 - val_loss: 0.4889 - val_accuracy: 0.8459\n",
      "Epoch 74/100\n",
      "306/306 [==============================] - 1s 2ms/step - loss: 0.2097 - accuracy: 0.9105 - val_loss: 0.4763 - val_accuracy: 0.8378\n",
      "Epoch 75/100\n",
      "306/306 [==============================] - 1s 2ms/step - loss: 0.2072 - accuracy: 0.9108 - val_loss: 0.4895 - val_accuracy: 0.8444\n",
      "Epoch 76/100\n",
      "306/306 [==============================] - 1s 2ms/step - loss: 0.2074 - accuracy: 0.9097 - val_loss: 0.4825 - val_accuracy: 0.8467\n",
      "Epoch 77/100\n",
      "306/306 [==============================] - 1s 2ms/step - loss: 0.2081 - accuracy: 0.9081 - val_loss: 0.4867 - val_accuracy: 0.8474\n",
      "Epoch 78/100\n",
      "306/306 [==============================] - 1s 2ms/step - loss: 0.2116 - accuracy: 0.9086 - val_loss: 0.4743 - val_accuracy: 0.8415\n",
      "Epoch 79/100\n",
      "306/306 [==============================] - 1s 2ms/step - loss: 0.2086 - accuracy: 0.9106 - val_loss: 0.4833 - val_accuracy: 0.8459\n",
      "Epoch 80/100\n",
      "306/306 [==============================] - 1s 2ms/step - loss: 0.2082 - accuracy: 0.9099 - val_loss: 0.4606 - val_accuracy: 0.8474\n",
      "Epoch 81/100\n",
      "306/306 [==============================] - 1s 2ms/step - loss: 0.2079 - accuracy: 0.9098 - val_loss: 0.4707 - val_accuracy: 0.8378\n",
      "Epoch 82/100\n",
      "306/306 [==============================] - 1s 2ms/step - loss: 0.2087 - accuracy: 0.9089 - val_loss: 0.4930 - val_accuracy: 0.8400\n",
      "Epoch 83/100\n",
      "306/306 [==============================] - 1s 2ms/step - loss: 0.2103 - accuracy: 0.9094 - val_loss: 0.4861 - val_accuracy: 0.8437\n",
      "Epoch 84/100\n",
      "306/306 [==============================] - 1s 2ms/step - loss: 0.2094 - accuracy: 0.9097 - val_loss: 0.4838 - val_accuracy: 0.8378\n",
      "Epoch 85/100\n",
      "306/306 [==============================] - 1s 2ms/step - loss: 0.2078 - accuracy: 0.9112 - val_loss: 0.4826 - val_accuracy: 0.8385\n",
      "Epoch 86/100\n",
      "306/306 [==============================] - 1s 2ms/step - loss: 0.2101 - accuracy: 0.9111 - val_loss: 0.4821 - val_accuracy: 0.8415\n",
      "Epoch 87/100\n",
      "306/306 [==============================] - 1s 2ms/step - loss: 0.2058 - accuracy: 0.9114 - val_loss: 0.4875 - val_accuracy: 0.8437\n",
      "Epoch 88/100\n",
      "306/306 [==============================] - 1s 2ms/step - loss: 0.2079 - accuracy: 0.9098 - val_loss: 0.4805 - val_accuracy: 0.8363\n",
      "Epoch 89/100\n",
      "306/306 [==============================] - 1s 2ms/step - loss: 0.2070 - accuracy: 0.9098 - val_loss: 0.4861 - val_accuracy: 0.8363\n",
      "Epoch 90/100\n",
      "306/306 [==============================] - 1s 2ms/step - loss: 0.2084 - accuracy: 0.9111 - val_loss: 0.4710 - val_accuracy: 0.8444\n",
      "Epoch 91/100\n",
      "306/306 [==============================] - 1s 2ms/step - loss: 0.2100 - accuracy: 0.9081 - val_loss: 0.4886 - val_accuracy: 0.8430\n",
      "Epoch 92/100\n",
      "306/306 [==============================] - 1s 2ms/step - loss: 0.2098 - accuracy: 0.9094 - val_loss: 0.4773 - val_accuracy: 0.8496\n",
      "Epoch 93/100\n",
      "306/306 [==============================] - 1s 2ms/step - loss: 0.2088 - accuracy: 0.9086 - val_loss: 0.4665 - val_accuracy: 0.8489\n",
      "Epoch 94/100\n",
      "306/306 [==============================] - 1s 2ms/step - loss: 0.2037 - accuracy: 0.9135 - val_loss: 0.4956 - val_accuracy: 0.8430\n",
      "Epoch 95/100\n",
      "306/306 [==============================] - 1s 2ms/step - loss: 0.2066 - accuracy: 0.9123 - val_loss: 0.4723 - val_accuracy: 0.8504\n",
      "Epoch 96/100\n",
      "306/306 [==============================] - 1s 2ms/step - loss: 0.2127 - accuracy: 0.9082 - val_loss: 0.4742 - val_accuracy: 0.8459\n",
      "Epoch 97/100\n",
      "306/306 [==============================] - 1s 2ms/step - loss: 0.2072 - accuracy: 0.9084 - val_loss: 0.4871 - val_accuracy: 0.8430\n",
      "Epoch 98/100\n",
      "306/306 [==============================] - 1s 2ms/step - loss: 0.2053 - accuracy: 0.9123 - val_loss: 0.4694 - val_accuracy: 0.8415\n",
      "Epoch 99/100\n",
      "306/306 [==============================] - 1s 2ms/step - loss: 0.2080 - accuracy: 0.9088 - val_loss: 0.4942 - val_accuracy: 0.8341\n",
      "Epoch 100/100\n",
      "306/306 [==============================] - 1s 2ms/step - loss: 0.2103 - accuracy: 0.9080 - val_loss: 0.4912 - val_accuracy: 0.8437\n"
     ]
    }
   ],
   "source": [
    "history=ann.fit(X_train, y_train,validation_split=0.15, batch_size = 25, epochs = 100)"
   ]
  },
  {
   "cell_type": "code",
   "execution_count": 65,
   "metadata": {},
   "outputs": [
    {
     "data": {
      "image/png": "[encoded data removed]",
      "text/plain": [
       "<Figure size 432x288 with 1 Axes>"
      ]
     },
     "metadata": {
      "needs_background": "light"
     },
     "output_type": "display_data"
    }
   ],
   "source": [
    "plt.plot(history.history['accuracy'])\n",
    "plt.plot(history.history['val_accuracy'])\n",
    "plt.title('model accuracy')\n",
    "plt.ylabel('accuracy')\n",
    "plt.xlabel('epoch')\n",
    "plt.legend(['train', 'val'], loc='upper left')\n",
    "plt.grid()\n",
    "plt.show()"
   ]
  },
  {
   "cell_type": "code",
   "execution_count": 63,
   "metadata": {
    "scrolled": true
   },
   "outputs": [
    {
     "data": {
      "image/png": "[encoded data removed]",
      "text/plain": [
       "<Figure size 432x288 with 1 Axes>"
      ]
     },
     "metadata": {
      "needs_background": "light"
     },
     "output_type": "display_data"
    }
   ],
   "source": [
    "plt.plot(history.history['loss'], label='Training loss')\n",
    "plt.plot(history.history['val_loss'], label='Validation loss')\n",
    "#plt.ylim([0, 10])\n",
    "plt.xlabel('Epoch')\n",
    "plt.ylabel('Loss')\n",
    "plt.legend()\n",
    "#plt.xlim(0,100)\n",
    "plt.grid(True)"
   ]
  },
  {
   "cell_type": "markdown",
   "metadata": {},
   "source": [
    "## Prediction"
   ]
  },
  {
   "cell_type": "markdown",
   "metadata": {
    "colab_type": "text",
    "id": "CGRo3eacgDdC"
   },
   "source": [
    "\n",
    "\n",
    "Geography: Germany\n",
    "\n",
    "Credit Score: 500\n",
    "\n",
    "Gender: Female\n",
    "\n",
    "Age: 30 years old\n",
    "\n",
    "Tenure: 2 years\n",
    "\n",
    "Balance: \\$ 50000\n",
    "\n",
    "Number of Products: 1\n",
    "\n",
    "Does this customer have a credit card ? Yes\n",
    "\n",
    "Is this customer an Active Member: Yes\n",
    "\n",
    "Estimated Salary: \\$ 50000\n",
    "\n"
   ]
  },
  {
   "cell_type": "code",
   "execution_count": 66,
   "metadata": {
    "colab": {
     "base_uri": "https://localhost:8080/",
     "height": 34
    },
    "colab_type": "code",
    "id": "2d8IoCCkeWGL",
    "outputId": "957f3970-e197-4c3b-a150-7f69dc567f5d"
   },
   "outputs": [
    {
     "name": "stdout",
     "output_type": "stream",
     "text": [
      "[[False]]\n"
     ]
    }
   ],
   "source": [
    "print(ann.predict(sc.transform([[0, 1, 0, 500, 0, 30, 2, 50000, 1, 1, 1, 50000]])) >0.5)"
   ]
  },
  {
   "cell_type": "code",
   "execution_count": 68,
   "metadata": {},
   "outputs": [],
   "source": [
    "##customer does not leave the bank "
   ]
  },
  {
   "cell_type": "markdown",
   "metadata": {
    "colab_type": "text",
    "id": "u7yx47jPZt11"
   },
   "source": [
    "### Predicting the Test set results"
   ]
  },
  {
   "cell_type": "code",
   "execution_count": 69,
   "metadata": {
    "colab": {
     "base_uri": "https://localhost:8080/",
     "height": 137
    },
    "colab_type": "code",
    "id": "nIyEeQdRZwgs",
    "outputId": "82330ba8-9bdc-4fd1-d3cf-b6d78ee7c2a3"
   },
   "outputs": [
    {
     "name": "stdout",
     "output_type": "stream",
     "text": [
      "[[0 0]\n",
      " [0 1]\n",
      " [0 0]\n",
      " ...\n",
      " [0 0]\n",
      " [0 0]\n",
      " [0 0]]\n"
     ]
    }
   ],
   "source": [
    "y_pred = ann.predict(X_test)\n",
    "y_pred = (y_pred > 0.5)\n",
    "print(np.concatenate((y_pred.reshape(len(y_pred),1), y_test.reshape(len(y_test),1)),1))"
   ]
  },
  {
   "cell_type": "markdown",
   "metadata": {
    "colab_type": "text",
    "id": "o0oyfLWoaEGw"
   },
   "source": [
    "### Making the Confusion Matrix"
   ]
  },
  {
   "cell_type": "code",
   "execution_count": 70,
   "metadata": {
    "colab": {
     "base_uri": "https://localhost:8080/",
     "height": 68
    },
    "colab_type": "code",
    "id": "ci6K_r6LaF6P",
    "outputId": "4d854e9e-22d5-432f-f6e5-a102fe3ae0bd"
   },
   "outputs": [
    {
     "name": "stdout",
     "output_type": "stream",
     "text": [
      "[[713  81]\n",
      " [ 91 115]]\n"
     ]
    },
    {
     "data": {
      "text/plain": [
       "0.828"
      ]
     },
     "execution_count": 70,
     "metadata": {},
     "output_type": "execute_result"
    }
   ],
   "source": [
    "from sklearn.metrics import confusion_matrix, accuracy_score\n",
    "cm = confusion_matrix(y_test, y_pred)\n",
    "print(cm)\n",
    "accuracy_score(y_test, y_pred)"
   ]
  },
  {
   "cell_type": "code",
   "execution_count": 71,
   "metadata": {},
   "outputs": [
    {
     "data": {
      "image/png": "[encoded data removed]",
      "text/plain": [
       "<Figure size 432x288 with 2 Axes>"
      ]
     },
     "metadata": {
      "needs_background": "light"
     },
     "output_type": "display_data"
    }
   ],
   "source": [
    "\n",
    "plt.imshow(cm, cmap=plt.cm.Blues)\n",
    "plt.xlabel(\"Predicted labels\")\n",
    "plt.ylabel(\"True labels\")\n",
    "plt.xticks([], [])\n",
    "plt.yticks([], [])\n",
    "plt.title('Confusion matrix ')\n",
    "plt.colorbar()\n",
    "plt.show()"
   ]
  },
  {
   "cell_type": "code",
   "execution_count": null,
   "metadata": {},
   "outputs": [],
   "source": []
  }
 ],
 "metadata": {
  "colab": {
   "collapsed_sections": [],
   "name": "artificial_neural_network.ipynb",
   "provenance": [],
   "toc_visible": true
  },
  "kernelspec": {
   "display_name": "Python 3",
   "language": "python",
   "name": "python3"
  },
  "language_info": {
   "codemirror_mode": {
    "name": "ipython",
    "version": 3
   },
   "file_extension": ".py",
   "mimetype": "text/x-python",
   "name": "python",
   "nbconvert_exporter": "python",
   "pygments_lexer": "ipython3",
   "version": "3.7.3"
  }
 },
 "nbformat": 4,
 "nbformat_minor": 1
}
